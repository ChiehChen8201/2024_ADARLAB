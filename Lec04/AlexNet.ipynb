{
  "cells": [
    {
      "cell_type": "code",
      "execution_count": 9,
      "metadata": {
        "colab": {
          "base_uri": "https://localhost:8080/"
        },
        "id": "5DD_Gt3i6SDh",
        "outputId": "1400e108-5ab1-4a7e-d4a4-2ba489ce5b12"
      },
      "outputs": [
        {
          "name": "stdout",
          "output_type": "stream",
          "text": [
            "Requirement already satisfied: thop in c:\\users\\user\\anaconda3\\envs\\adar_lab\\lib\\site-packages (0.1.1.post2209072238)\n",
            "Requirement already satisfied: torch in c:\\users\\user\\anaconda3\\envs\\adar_lab\\lib\\site-packages (from thop) (2.3.1)\n",
            "Requirement already satisfied: filelock in c:\\users\\user\\anaconda3\\envs\\adar_lab\\lib\\site-packages (from torch->thop) (3.13.1)\n",
            "Requirement already satisfied: typing-extensions>=4.8.0 in c:\\users\\user\\anaconda3\\envs\\adar_lab\\lib\\site-packages (from torch->thop) (4.11.0)\n",
            "Requirement already satisfied: sympy in c:\\users\\user\\anaconda3\\envs\\adar_lab\\lib\\site-packages (from torch->thop) (1.12)\n",
            "Requirement already satisfied: networkx in c:\\users\\user\\anaconda3\\envs\\adar_lab\\lib\\site-packages (from torch->thop) (3.3)\n",
            "Requirement already satisfied: jinja2 in c:\\users\\user\\anaconda3\\envs\\adar_lab\\lib\\site-packages (from torch->thop) (3.1.4)\n",
            "Requirement already satisfied: fsspec in c:\\users\\user\\anaconda3\\envs\\adar_lab\\lib\\site-packages (from torch->thop) (2024.6.1)\n",
            "Requirement already satisfied: mkl<=2021.4.0,>=2021.1.1 in c:\\users\\user\\anaconda3\\envs\\adar_lab\\lib\\site-packages (from torch->thop) (2021.4.0)\n",
            "Requirement already satisfied: intel-openmp==2021.* in c:\\users\\user\\anaconda3\\envs\\adar_lab\\lib\\site-packages (from mkl<=2021.4.0,>=2021.1.1->torch->thop) (2021.4.0)\n",
            "Requirement already satisfied: tbb==2021.* in c:\\users\\user\\anaconda3\\envs\\adar_lab\\lib\\site-packages (from mkl<=2021.4.0,>=2021.1.1->torch->thop) (2021.13.0)\n",
            "Requirement already satisfied: MarkupSafe>=2.0 in c:\\users\\user\\anaconda3\\envs\\adar_lab\\lib\\site-packages (from jinja2->torch->thop) (2.1.3)\n",
            "Requirement already satisfied: mpmath>=0.19 in c:\\users\\user\\anaconda3\\envs\\adar_lab\\lib\\site-packages (from sympy->torch->thop) (1.3.0)\n",
            "Requirement already satisfied: torchsummary in c:\\users\\user\\anaconda3\\envs\\adar_lab\\lib\\site-packages (1.5.1)\n"
          ]
        }
      ],
      "source": [
        "!pip install thop\n",
        "!pip install torchsummary"
      ]
    },
    {
      "cell_type": "code",
      "execution_count": 10,
      "metadata": {
        "id": "Cm3Q1DuK7-Nw"
      },
      "outputs": [
        {
          "name": "stdout",
          "output_type": "stream",
          "text": [
            "[INFO] Register count_convNd() for <class 'torch.nn.modules.conv.Conv2d'>.\n",
            "[INFO] Register count_linear() for <class 'torch.nn.modules.linear.Linear'>.\n",
            "FLOPS: 698533568.0\n",
            "Parameters: 45442856.0\n"
          ]
        }
      ],
      "source": [
        "import torch\n",
        "import torch.nn as nn\n",
        "from thop import profile\n",
        "from torchsummary import summary\n",
        "import torch.nn.functional as F\n",
        "\n",
        "class CustomAlexNet(nn.Module):\n",
        "    def __init__(self):\n",
        "        super(CustomAlexNet, self).__init__()\n",
        "        # Create your AlexNet\n",
        "        self.conv1 = nn.Conv2d(in_channels=3, out_channels=64, kernel_size=11, padding=2, stride=4)\n",
        "        self.conv2 = nn.Conv2d(in_channels=64, out_channels=192, kernel_size=5, padding=2)\n",
        "        self.conv3 = nn.Conv2d(in_channels=192, out_channels=384, kernel_size=3, padding=1)\n",
        "        self.conv4 = nn.Conv2d(in_channels=384, out_channels=256, kernel_size=3, padding=1)\n",
        "        self.conv5 = nn.Conv2d(in_channels=256, out_channels=256, kernel_size=3, padding=1)\n",
        "\n",
        "        self.fc1 = nn.Linear(in_features=256*6*6, out_features=4096)\n",
        "        self.fc2 = nn.Linear(in_features=4096, out_features=1024)\n",
        "        self.fc3 = nn.Linear(in_features=1024, out_features=1000)\n",
        "\n",
        "    def forward(self, x):\n",
        "        # Connect your Model\n",
        "        x = F.relu(self.conv1(x))\n",
        "        x = F.max_pool2d(x, kernel_size=3, stride=2)\n",
        "        x = F.relu(self.conv2(x))\n",
        "        x = F.max_pool2d(x, kernel_size=3, stride=2)\n",
        "        x = F.relu(self.conv3(x))\n",
        "        x = F.relu(self.conv4(x))\n",
        "        x = F.relu(self.conv5(x))\n",
        "        x = F.max_pool2d(x, kernel_size=3, stride=2)\n",
        "        x = torch.flatten(x, start_dim=1)\n",
        "        x = F.relu(self.fc1(x))\n",
        "        x = F.dropout(x, p=0.5)\n",
        "        x = F.relu(self.fc2(x))\n",
        "        x = F.dropout(x, p=0.5)\n",
        "        x = self.fc3(x)\n",
        "        return x\n",
        "\n",
        "device = torch.device(\"cuda\" if torch.cuda.is_available() else \"cpu\")\n",
        "model = CustomAlexNet().to(device)\n",
        "inputs = torch.randn(1, 3, 224, 224).to(device)\n",
        "flops, params = profile(model, inputs=(inputs,))\n",
        "\n",
        "print(f\"FLOPS: {flops}\")\n",
        "print(f\"Parameters: {params}\")\n"
      ]
    },
    {
      "cell_type": "code",
      "execution_count": 11,
      "metadata": {
        "id": "oFgfhaCQxAdL"
      },
      "outputs": [
        {
          "name": "stdout",
          "output_type": "stream",
          "text": [
            "----------------------------------------------------------------\n",
            "        Layer (type)               Output Shape         Param #\n",
            "================================================================\n",
            "            Conv2d-1           [-1, 64, 55, 55]          23,296\n",
            "            Conv2d-2          [-1, 192, 27, 27]         307,392\n",
            "            Conv2d-3          [-1, 384, 13, 13]         663,936\n",
            "            Conv2d-4          [-1, 256, 13, 13]         884,992\n",
            "            Conv2d-5          [-1, 256, 13, 13]         590,080\n",
            "            Linear-6                 [-1, 4096]      37,752,832\n",
            "            Linear-7                 [-1, 1024]       4,195,328\n",
            "            Linear-8                 [-1, 1000]       1,025,000\n",
            "================================================================\n",
            "Total params: 45,442,856\n",
            "Trainable params: 45,442,856\n",
            "Non-trainable params: 0\n",
            "----------------------------------------------------------------\n",
            "Input size (MB): 0.57\n",
            "Forward/backward pass size (MB): 3.75\n",
            "Params size (MB): 173.35\n",
            "Estimated Total Size (MB): 177.67\n",
            "----------------------------------------------------------------\n"
          ]
        }
      ],
      "source": [
        "summary(model,(3,224,224))"
      ]
    }
  ],
  "metadata": {
    "colab": {
      "provenance": []
    },
    "kernelspec": {
      "display_name": "Python 3",
      "name": "python3"
    },
    "language_info": {
      "codemirror_mode": {
        "name": "ipython",
        "version": 3
      },
      "file_extension": ".py",
      "mimetype": "text/x-python",
      "name": "python",
      "nbconvert_exporter": "python",
      "pygments_lexer": "ipython3",
      "version": "3.12.4"
    }
  },
  "nbformat": 4,
  "nbformat_minor": 0
}
